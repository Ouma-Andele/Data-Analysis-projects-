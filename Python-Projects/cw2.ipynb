{
 "cells": [
  {
   "cell_type": "code",
   "execution_count": 38,
   "id": "dde57188",
   "metadata": {},
   "outputs": [],
   "source": [
    "# ✅ Step 1: Load Libraries\n",
    "import pandas as pd\n",
    "import numpy as np\n",
    "import matplotlib.pyplot as plt\n",
    "import seaborn as sns\n",
    "from datetime import datetime, timedelta\n",
    "from sklearn.model_selection import train_test_split\n",
    "from sklearn.metrics import mean_squared_error, confusion_matrix, accuracy_score\n",
    "from sklearn.ensemble import RandomForestRegressor\n",
    "from sklearn.neighbors import KNeighborsClassifier\n",
    "import statsmodels.api as sm\n",
    "from statsmodels.stats.outliers_influence import variance_inflation_factor\n",
    "\n"
   ]
  },
  {
   "cell_type": "code",
   "execution_count": 39,
   "id": "5780bc3c",
   "metadata": {},
   "outputs": [],
   "source": [
    "# Load the Excel file\n",
    "file_path = \"C:/Users/SPF_Admin/OneDrive/Desktop/Data_CW2.xlsx\"\n",
    "df_auto = pd.read_excel(file_path, engine='openpyxl', sheet_name='Automobile')\n",
    "df_iris = pd.read_excel(file_path, engine='openpyxl', sheet_name='Iris', header=None)\n",
    "\n"
   ]
  },
  {
   "cell_type": "code",
   "execution_count": 40,
   "id": "099cf4b5",
   "metadata": {},
   "outputs": [
    {
     "data": {
      "text/html": [
       "<div>\n",
       "<style scoped>\n",
       "    .dataframe tbody tr th:only-of-type {\n",
       "        vertical-align: middle;\n",
       "    }\n",
       "\n",
       "    .dataframe tbody tr th {\n",
       "        vertical-align: top;\n",
       "    }\n",
       "\n",
       "    .dataframe thead th {\n",
       "        text-align: right;\n",
       "    }\n",
       "</style>\n",
       "<table border=\"1\" class=\"dataframe\">\n",
       "  <thead>\n",
       "    <tr style=\"text-align: right;\">\n",
       "      <th></th>\n",
       "      <th>Sale ID</th>\n",
       "      <th>sale date</th>\n",
       "      <th>Model age</th>\n",
       "      <th>proximity to urban centres</th>\n",
       "      <th>number of dealerships nearby</th>\n",
       "      <th>vechicle sale price</th>\n",
       "    </tr>\n",
       "  </thead>\n",
       "  <tbody>\n",
       "    <tr>\n",
       "      <th>0</th>\n",
       "      <td>1</td>\n",
       "      <td>2013.650</td>\n",
       "      <td>38.6</td>\n",
       "      <td>265.347718</td>\n",
       "      <td>6</td>\n",
       "      <td>41.98014</td>\n",
       "    </tr>\n",
       "    <tr>\n",
       "      <th>1</th>\n",
       "      <td>2</td>\n",
       "      <td>2012.350</td>\n",
       "      <td>19.5</td>\n",
       "      <td>4077.055125</td>\n",
       "      <td>1</td>\n",
       "      <td>29.02716</td>\n",
       "    </tr>\n",
       "    <tr>\n",
       "      <th>2</th>\n",
       "      <td>3</td>\n",
       "      <td>2012.918</td>\n",
       "      <td>20.9</td>\n",
       "      <td>937.831933</td>\n",
       "      <td>5</td>\n",
       "      <td>58.83462</td>\n",
       "    </tr>\n",
       "    <tr>\n",
       "      <th>3</th>\n",
       "      <td>4</td>\n",
       "      <td>2013.000</td>\n",
       "      <td>16.9</td>\n",
       "      <td>179.732757</td>\n",
       "      <td>3</td>\n",
       "      <td>51.65586</td>\n",
       "    </tr>\n",
       "    <tr>\n",
       "      <th>4</th>\n",
       "      <td>5</td>\n",
       "      <td>2013.416</td>\n",
       "      <td>32.5</td>\n",
       "      <td>190.054496</td>\n",
       "      <td>7</td>\n",
       "      <td>66.32550</td>\n",
       "    </tr>\n",
       "  </tbody>\n",
       "</table>\n",
       "</div>"
      ],
      "text/plain": [
       "   Sale ID  sale date  Model age  proximity to urban centres  \\\n",
       "0        1   2013.650       38.6                  265.347718   \n",
       "1        2   2012.350       19.5                 4077.055125   \n",
       "2        3   2012.918       20.9                  937.831933   \n",
       "3        4   2013.000       16.9                  179.732757   \n",
       "4        5   2013.416       32.5                  190.054496   \n",
       "\n",
       "   number of dealerships nearby  vechicle sale price  \n",
       "0                             6             41.98014  \n",
       "1                             1             29.02716  \n",
       "2                             5             58.83462  \n",
       "3                             3             51.65586  \n",
       "4                             7             66.32550  "
      ]
     },
     "execution_count": 40,
     "metadata": {},
     "output_type": "execute_result"
    }
   ],
   "source": [
    "# Display the first few rows of the DataFrame\n",
    "df_auto.head()\n"
   ]
  },
  {
   "cell_type": "code",
   "execution_count": 41,
   "id": "539a06d2",
   "metadata": {},
   "outputs": [
    {
     "data": {
      "text/html": [
       "<div>\n",
       "<style scoped>\n",
       "    .dataframe tbody tr th:only-of-type {\n",
       "        vertical-align: middle;\n",
       "    }\n",
       "\n",
       "    .dataframe tbody tr th {\n",
       "        vertical-align: top;\n",
       "    }\n",
       "\n",
       "    .dataframe thead th {\n",
       "        text-align: right;\n",
       "    }\n",
       "</style>\n",
       "<table border=\"1\" class=\"dataframe\">\n",
       "  <thead>\n",
       "    <tr style=\"text-align: right;\">\n",
       "      <th></th>\n",
       "      <th>0</th>\n",
       "    </tr>\n",
       "  </thead>\n",
       "  <tbody>\n",
       "    <tr>\n",
       "      <th>0</th>\n",
       "      <td>5,2.3,3.4,0.9,Iris-versicolor</td>\n",
       "    </tr>\n",
       "    <tr>\n",
       "      <th>1</th>\n",
       "      <td>5,2.4,4.6,1.6,Iris-virginica</td>\n",
       "    </tr>\n",
       "    <tr>\n",
       "      <th>2</th>\n",
       "      <td>5.1,1.9,3.6,0.9,Iris-versicolor</td>\n",
       "    </tr>\n",
       "    <tr>\n",
       "      <th>3</th>\n",
       "      <td>5.1,2.2,3.4,0.9,Iris-versicolor</td>\n",
       "    </tr>\n",
       "    <tr>\n",
       "      <th>4</th>\n",
       "      <td>5.2,2.4,3.1,1,Iris-versicolor</td>\n",
       "    </tr>\n",
       "  </tbody>\n",
       "</table>\n",
       "</div>"
      ],
      "text/plain": [
       "                                 0\n",
       "0    5,2.3,3.4,0.9,Iris-versicolor\n",
       "1     5,2.4,4.6,1.6,Iris-virginica\n",
       "2  5.1,1.9,3.6,0.9,Iris-versicolor\n",
       "3  5.1,2.2,3.4,0.9,Iris-versicolor\n",
       "4    5.2,2.4,3.1,1,Iris-versicolor"
      ]
     },
     "execution_count": 41,
     "metadata": {},
     "output_type": "execute_result"
    }
   ],
   "source": [
    "# Display the first few rows of the DataFrame\n",
    "df_iris.head()"
   ]
  },
  {
   "cell_type": "code",
   "execution_count": 42,
   "id": "bc0457a3",
   "metadata": {},
   "outputs": [
    {
     "data": {
      "text/html": [
       "<div>\n",
       "<style scoped>\n",
       "    .dataframe tbody tr th:only-of-type {\n",
       "        vertical-align: middle;\n",
       "    }\n",
       "\n",
       "    .dataframe tbody tr th {\n",
       "        vertical-align: top;\n",
       "    }\n",
       "\n",
       "    .dataframe thead th {\n",
       "        text-align: right;\n",
       "    }\n",
       "</style>\n",
       "<table border=\"1\" class=\"dataframe\">\n",
       "  <thead>\n",
       "    <tr style=\"text-align: right;\">\n",
       "      <th></th>\n",
       "      <th>flower</th>\n",
       "    </tr>\n",
       "  </thead>\n",
       "  <tbody>\n",
       "    <tr>\n",
       "      <th>0</th>\n",
       "      <td>5,2.3,3.4,0.9,Iris-versicolor</td>\n",
       "    </tr>\n",
       "    <tr>\n",
       "      <th>1</th>\n",
       "      <td>5,2.4,4.6,1.6,Iris-virginica</td>\n",
       "    </tr>\n",
       "    <tr>\n",
       "      <th>2</th>\n",
       "      <td>5.1,1.9,3.6,0.9,Iris-versicolor</td>\n",
       "    </tr>\n",
       "    <tr>\n",
       "      <th>3</th>\n",
       "      <td>5.1,2.2,3.4,0.9,Iris-versicolor</td>\n",
       "    </tr>\n",
       "    <tr>\n",
       "      <th>4</th>\n",
       "      <td>5.2,2.4,3.1,1,Iris-versicolor</td>\n",
       "    </tr>\n",
       "  </tbody>\n",
       "</table>\n",
       "</div>"
      ],
      "text/plain": [
       "                            flower\n",
       "0    5,2.3,3.4,0.9,Iris-versicolor\n",
       "1     5,2.4,4.6,1.6,Iris-virginica\n",
       "2  5.1,1.9,3.6,0.9,Iris-versicolor\n",
       "3  5.1,2.2,3.4,0.9,Iris-versicolor\n",
       "4    5.2,2.4,3.1,1,Iris-versicolor"
      ]
     },
     "execution_count": 42,
     "metadata": {},
     "output_type": "execute_result"
    }
   ],
   "source": [
    "df_iris.columns = ['flower']\n",
    "df_iris.head()"
   ]
  },
  {
   "cell_type": "code",
   "execution_count": 43,
   "id": "8170d6e0",
   "metadata": {},
   "outputs": [
    {
     "data": {
      "text/plain": [
       "Index(['sale_id', 'sale_date', 'model_age', 'proximity_to_urban_centres',\n",
       "       'number_of_dealerships_nearby', 'vechicle_sale_price'],\n",
       "      dtype='object')"
      ]
     },
     "execution_count": 43,
     "metadata": {},
     "output_type": "execute_result"
    }
   ],
   "source": [
    "# Clean column names\n",
    "df_auto.columns = df_auto.columns.str.strip().str.lower().str.replace(' ', '_')\n",
    "df_iris.columns = df_iris.columns.str.strip().str.lower().str.replace(' ', '_')\n",
    "\n",
    "df_auto.columns\n",
    "\n"
   ]
  },
  {
   "cell_type": "code",
   "execution_count": 44,
   "id": "0e61918b",
   "metadata": {},
   "outputs": [
    {
     "name": "stdout",
     "output_type": "stream",
     "text": [
      "   sale_date        sale_date_converted\n",
      "0   2013.650 2013-08-26 06:00:00.000003\n",
      "1   2012.350 2012-05-08 02:23:59.999997\n",
      "2   2012.918 2012-12-01 23:42:43.199997\n",
      "3   2013.000 2013-01-01 00:00:00.000000\n",
      "4   2013.416 2013-06-01 20:09:35.999998\n"
     ]
    }
   ],
   "source": [
    "# Convert decimal year to datetime\n",
    "from datetime import datetime, timedelta\n",
    "\n",
    "# Define a function to convert decimal year to datetime\n",
    "def decimal_year_to_date(decimal_year):\n",
    "\tyear = int(decimal_year)\n",
    "\tremainder = decimal_year - year\n",
    "\tstart_of_year = datetime(year, 1, 1)\n",
    "\tdays_in_year = (datetime(year + 1, 1, 1) - start_of_year).days\n",
    "\treturn start_of_year + timedelta(days=remainder * days_in_year)\n",
    "\n",
    "# Apply the function to the sale_date column\n",
    "df_auto['sale_date_converted'] = df_auto['sale_date'].apply(decimal_year_to_date)\n",
    "\n",
    "# Confirm\n",
    "print(df_auto[['sale_date', 'sale_date_converted']].head())"
   ]
  },
  {
   "cell_type": "code",
   "execution_count": 45,
   "id": "2b5807f7",
   "metadata": {},
   "outputs": [
    {
     "name": "stdout",
     "output_type": "stream",
     "text": [
      "                   sale_date\n",
      "0 2013-08-26 06:00:00.000003\n",
      "1 2012-05-08 02:23:59.999997\n",
      "2 2012-12-01 23:42:43.199997\n",
      "3 2013-01-01 00:00:00.000000\n",
      "4 2013-06-01 20:09:35.999998\n"
     ]
    }
   ],
   "source": [
    "# Delete the original column and rename the new column\n",
    "df_auto.drop(columns=['sale_date'], inplace=True)\n",
    "df_auto.rename(columns={'sale_date_converted': 'sale_date'}, inplace=True)\n",
    "\n",
    "# Confirm\n",
    "print(df_auto[['sale_date']].head())"
   ]
  },
  {
   "cell_type": "code",
   "execution_count": 46,
   "id": "3fb432a5",
   "metadata": {},
   "outputs": [],
   "source": [
    "df_auto['sale_date'] = df_auto['sale_date'].dt.date "
   ]
  },
  {
   "cell_type": "code",
   "execution_count": 47,
   "id": "37b61ec3",
   "metadata": {},
   "outputs": [
    {
     "name": "stdout",
     "output_type": "stream",
     "text": [
      "         sale_id   model_age  proximity_to_urban_centres  \\\n",
      "count  439.00000  439.000000                  439.000000   \n",
      "mean   220.00000   21.870843                 1051.552291   \n",
      "std    126.87264   11.443429                 1227.734307   \n",
      "min      1.00000    4.000000                   21.221056   \n",
      "25%    110.50000   13.050000                  279.636295   \n",
      "50%    220.00000   20.200000                  476.800111   \n",
      "75%    329.50000   32.850000                 1410.143812   \n",
      "max    439.00000   47.800000                 6302.896251   \n",
      "\n",
      "       number_of_dealerships_nearby  vechicle_sale_price  \n",
      "count                    439.000000           439.000000  \n",
      "mean                       5.088838            59.002077  \n",
      "std                        2.937529            21.113341  \n",
      "min                        1.000000            11.860560  \n",
      "25%                        2.000000            42.916500  \n",
      "50%                        5.000000            59.458860  \n",
      "75%                        7.000000            72.255780  \n",
      "max                       11.000000           183.370500  \n",
      "sale_id                         0\n",
      "model_age                       0\n",
      "proximity_to_urban_centres      0\n",
      "number_of_dealerships_nearby    0\n",
      "vechicle_sale_price             0\n",
      "sale_date                       0\n",
      "dtype: int64\n"
     ]
    }
   ],
   "source": [
    "# ✅ Step 3: Exploratory Data Analysis\n",
    "print(df_auto.describe())\n",
    "print(df_auto.isnull().sum())\n"
   ]
  },
  {
   "cell_type": "code",
   "execution_count": 48,
   "id": "da3367a5",
   "metadata": {},
   "outputs": [
    {
     "name": "stdout",
     "output_type": "stream",
     "text": [
      "                             OLS Regression Results                            \n",
      "===============================================================================\n",
      "Dep. Variable:     vechicle_sale_price   R-squared:                       0.556\n",
      "Model:                             OLS   Adj. R-squared:                  0.551\n",
      "Method:                  Least Squares   F-statistic:                     135.6\n",
      "Date:                 Thu, 15 May 2025   Prob (F-statistic):           4.63e-75\n",
      "Time:                         15:22:10   Log-Likelihood:                -1783.3\n",
      "No. Observations:                  439   AIC:                             3577.\n",
      "Df Residuals:                      434   BIC:                             3597.\n",
      "Df Model:                            4                                         \n",
      "Covariance Type:             nonrobust                                         \n",
      "================================================================================================\n",
      "                                   coef    std err          t      P>|t|      [0.025      0.975]\n",
      "------------------------------------------------------------------------------------------------\n",
      "const                        -9905.4544   2942.742     -3.366      0.001   -1.57e+04   -4121.657\n",
      "model_age                       -0.4190      0.059     -7.063      0.000      -0.536      -0.302\n",
      "proximity_to_urban_centres      -0.0085      0.001    -12.352      0.000      -0.010      -0.007\n",
      "number_of_dealerships_nearby     2.0471      0.290      7.070      0.000       1.478       2.616\n",
      "sale_year                        4.9547      1.462      3.389      0.001       2.081       7.828\n",
      "==============================================================================\n",
      "Omnibus:                      225.145   Durbin-Watson:                   2.113\n",
      "Prob(Omnibus):                  0.000   Jarque-Bera (JB):             3128.666\n",
      "Skew:                           1.850   Prob(JB):                         0.00\n",
      "Kurtosis:                      15.544   Cond. No.                     1.03e+07\n",
      "==============================================================================\n",
      "\n",
      "Notes:\n",
      "[1] Standard Errors assume that the covariance matrix of the errors is correctly specified.\n",
      "[2] The condition number is large, 1.03e+07. This might indicate that there are\n",
      "strong multicollinearity or other numerical problems.\n"
     ]
    }
   ],
   "source": [
    "#Question 1.1 (a) Build a linear regression model to predict vehicle value. \n",
    "\n",
    "# ✅ Step 4: Linear Regression Model\n",
    "# Create 'sale_year' column from 'sale_date'\n",
    "df_auto['sale_year'] = pd.to_datetime(df_auto['sale_date']).dt.year\n",
    "\n",
    "# Define predictors and target\n",
    "X = df_auto[['model_age', 'proximity_to_urban_centres', 'number_of_dealerships_nearby', 'sale_year']]\n",
    "y = df_auto['vechicle_sale_price']\n",
    "\n",
    "# Add constant for intercept\n",
    "X = sm.add_constant(X)\n",
    "# Fit the linear model\n",
    "model = sm.OLS(y, X).fit()\n",
    "print(model.summary())\n"
   ]
  },
  {
   "cell_type": "markdown",
   "id": "c06d5247",
   "metadata": {},
   "source": [
    "**Question 1.1 (b) Interpret your regression results for your customer.**\n",
    "\n",
    "**Model Fit and Significance**\n",
    "\n",
    "**R-squared** = 0.556:\n",
    "About 55.6% of the variation in vehicle sale price is explained by the model. This suggests a moderately good fit.\n",
    "\n",
    "**F-statistic** (135.6) and Prob(F-statistic) = 4.63e-75:\n",
    "The model is statistically significant overall, meaning at least one predictor is relevant.\n",
    "\n",
    "| Variable                            | Coefficient | p-value | Interpretation                                                                                                                    |\n",
    "| ----------------------------------- | ----------- | ------- | --------------------------------------------------------------------------------------------------------------------------------- |\n",
    "| **model\\_age**                      | -0.4190     | 0.000   | As vehicle age increases by 1 year, the price **decreases** by \\~0.42 units, all else held constant. Statistically significant.   |\n",
    "| **proximity\\_to\\_urban\\_centres**   | -0.0085     | 0.000   | For each additional unit of distance from the urban centre, the price drops slightly. Strong negative relationship.               |\n",
    "| **number\\_of\\_dealerships\\_nearby** | +2.0471     | 0.000   | More dealerships nearby **increase the sale price**. Each additional dealership increases the value by \\~2.05 units. Significant. |\n",
    "| **sale\\_year**                      | +4.9547     | 0.001   | Newer sale years correspond to higher vehicle values. For every 1-year increase in sale year, price increases by \\~4.95 units.    |\n",
    "\n",
    "**Other Diagnostics**\n",
    "- All p-values < 0.05, so all variables are statistically significant.\n",
    "- Durbin-Watson = 2.11, suggesting no autocorrelation in residuals (which is good).\n",
    "- Condition Number = 1.03e+07, flagged as high suggests you should later check for multicollinearity (Q1.2).\n",
    "\n",
    "**Summary**\n",
    "\n",
    "The regression results show that all four predictors are statistically significant (p < 0.05) and meaningfully impact vehicle price. Model age and distance to urban centres negatively affect price, while the number of nearby dealerships and the sale year positively influence price. The model explains approximately 55.6% of the variance in sale price, suggesting a reasonably strong model for this context."
   ]
  },
  {
   "cell_type": "markdown",
   "id": "c4389217",
   "metadata": {},
   "source": [
    "**Question 1.2 (a) Briefly explain the concepts of heteroskedasticity and multicollinearity**\n",
    "\n",
    "**Heteroskedasticity** refers to a situation in regression analysis where the variance of the errors (residuals) is not constant across all levels of the independent variable(s). This violates one of the key assumptions of ordinary least squares (OLS) regression and can lead to inefficient estimates and invalid statistical tests.\n",
    "\n",
    "**Multicollinearity** occurs when two or more independent variables in a regression model are highly correlated with each other. This makes it difficult to determine the individual effect of each variable on the dependent variable, leading to unstable coefficient estimates and inflated standard errors."
   ]
  },
  {
   "cell_type": "markdown",
   "id": "a1ddf89f",
   "metadata": {},
   "source": [
    "**Question 1.2 (b) Prove your model is not affected**"
   ]
  },
  {
   "cell_type": "code",
   "execution_count": 49,
   "id": "40e247fb",
   "metadata": {
    "notebookRunGroups": {
     "groupValue": "1"
    }
   },
   "outputs": [
    {
     "data": {
      "image/png": "[encoded data removed]",
      "text/plain": [
       "<Figure size 640x480 with 1 Axes>"
      ]
     },
     "metadata": {},
     "output_type": "display_data"
    },
    {
     "name": "stdout",
     "output_type": "stream",
     "text": [
      "                        feature           VIF\n",
      "0                         const  1.901228e+07\n",
      "1                     model_age  1.009335e+00\n",
      "2    proximity_to_urban_centres  1.581169e+00\n",
      "3  number_of_dealerships_nearby  1.584810e+00\n",
      "4                     sale_year  1.003572e+00\n"
     ]
    }
   ],
   "source": [
    "\n",
    "#Check for heteroskedasticity\n",
    "\n",
    "residuals = model.resid\n",
    "fitted = model.fittedvalues\n",
    "\n",
    "plt.scatter(fitted, residuals)\n",
    "plt.axhline(0, color='red', linestyle='--')\n",
    "plt.xlabel('Fitted Values')\n",
    "plt.ylabel('Residuals')\n",
    "plt.title('Residuals vs Fitted')\n",
    "plt.show()\n",
    "\n",
    "#Check for multicollinearity\n",
    "\n",
    "from statsmodels.stats.outliers_influence import variance_inflation_factor\n",
    "\n",
    "vif_data = pd.DataFrame()\n",
    "vif_data['feature'] = X.columns\n",
    "vif_data['VIF'] = [variance_inflation_factor(X.values, i) for i in range(X.shape[1])]\n",
    "print(vif_data)\n"
   ]
  },
  {
   "cell_type": "markdown",
   "id": "c598171e",
   "metadata": {},
   "source": [
    "\n",
    "**Check for Heteroskedasticity**\n",
    "\n",
    "**What Your Plot Shows:**\n",
    "- The residuals mostly cluster around the red line (residual = 0)\n",
    "- There's no funnel shape or clear increasing/decreasing variance\n",
    "- While there are a few outliers, the spread looks fairly even\n",
    "\n",
    "**Conclusion:**\n",
    "*The residuals appear randomly and evenly scattered around zero, with no evident pattern or increasing spread. This suggests that the assumption of homoskedasticity (constant variance of residuals) is reasonably satisfied, and the model does not suffer from heteroskedasticity.*\n",
    "\n",
    "**Check for Multicollinearity**\n",
    "\n",
    "**VIF Interpretation:**\n",
    "| Feature                        | VIF          | Interpretation                                       |\n",
    "| ------------------------------ | ------------ | ---------------------------------------------------- |\n",
    "| const                        | \\~19,000,000 | Can be ignored – intercept is not used for VIF check |\n",
    "| model_age                    | \\~1.01       | No multicollinearity                                 |\n",
    "| proximity_to_urban_centres   | \\~1.58       | No multicollinearity                                 |\n",
    "| number_of_dealerships_nearby | \\~1.58       | No multicollinearity                                 |\n",
    "| sale_year                    | \\~1.00       | No multicollinearity                                 |\n",
    "\n",
    "**Conclusion:** \n",
    "*Variance Inflation Factor (VIF) was calculated for all predictors. All values were below 2, indicating low correlation between independent variables. Therefore, the model does not suffer from multicollinearity.*"
   ]
  },
  {
   "cell_type": "markdown",
   "id": "df290747",
   "metadata": {},
   "source": [
    "**Question 1.2 (c) Suggest solutions (if issues exist)**\n",
    "\n",
    "If heteroskedasticity were observed, one solution would be to apply a log transformation to the dependent variable or use robust standard errors. For multicollinearity, if VIF values exceeded 5 or 10, solutions could include removing one of the correlated variables, applying PCA, or using regularized regression methods such as Ridge or Lasso regression to stabilize the estimates."
   ]
  },
  {
   "cell_type": "markdown",
   "id": "49ffa81d",
   "metadata": {},
   "source": [
    "**Question 1.3 – Nonlinear Model Suggestion**"
   ]
  },
  {
   "cell_type": "code",
   "execution_count": 50,
   "id": "6c1485e4",
   "metadata": {},
   "outputs": [
    {
     "name": "stdout",
     "output_type": "stream",
     "text": [
      "Random Forest MSE: 79.55579582924439\n",
      "Linear Regression MSE: 133.55320202918747\n"
     ]
    }
   ],
   "source": [
    "#Question 1.3 – Nonlinear Model Suggestion\n",
    "#Try a nonlinear model and see if it performs better\n",
    "\n",
    "from sklearn.ensemble import RandomForestRegressor\n",
    "from sklearn.metrics import mean_squared_error\n",
    "from sklearn.model_selection import train_test_split\n",
    "\n",
    "X_train, X_test, y_train, y_test = train_test_split(X.drop(columns='const'), y, test_size=0.2, random_state=42)\n",
    "\n",
    "rf = RandomForestRegressor(random_state=42)\n",
    "rf.fit(X_train, y_train)\n",
    "\n",
    "y_pred_rf = rf.predict(X_test)\n",
    "y_pred_lr = model.predict(sm.add_constant(X_test))\n",
    "\n",
    "mse_rf = mean_squared_error(y_test, y_pred_rf)\n",
    "mse_lr = mean_squared_error(y_test, y_pred_lr)\n",
    "\n",
    "print(f\"Random Forest MSE: {mse_rf}\")\n",
    "print(f\"Linear Regression MSE: {mse_lr}\")"
   ]
  },
  {
   "cell_type": "markdown",
   "id": "b56d5bab",
   "metadata": {},
   "source": [
    "**Results:**\n",
    "\n",
    "- Random Forest MSE: 79.56\n",
    "- Linear Regression MSE: 133.55\n",
    "\n",
    "**Interpretation:**\n",
    "\n",
    "- **Lower MSE** is better because it indicates that the model’s predictions are, on average, closer to the actual values.\n",
    "- **Random Forest Model** performs significantly better than the linear model, reducing error by about 40%.\n",
    "\n",
    "\n",
    "*To assess whether a nonlinear model would improve prediction accuracy, a Random Forest Regressor was applied. The Mean Squared Error (MSE) for the Random Forest model was 79.56, compared to 133.55 for the linear regression model. This indicates that the nonlinear model fits the data more accurately. Therefore, in this context, the Random Forest is a more appropriate model due to its superior performance and ability to capture nonlinear relationships in the data.*"
   ]
  },
  {
   "cell_type": "markdown",
   "id": "cadb942c",
   "metadata": {},
   "source": [
    "**Question 2.1 – K-NN Classification**"
   ]
  },
  {
   "cell_type": "code",
   "execution_count": 51,
   "id": "071f0dcb",
   "metadata": {},
   "outputs": [
    {
     "data": {
      "text/html": [
       "<div>\n",
       "<style scoped>\n",
       "    .dataframe tbody tr th:only-of-type {\n",
       "        vertical-align: middle;\n",
       "    }\n",
       "\n",
       "    .dataframe tbody tr th {\n",
       "        vertical-align: top;\n",
       "    }\n",
       "\n",
       "    .dataframe thead th {\n",
       "        text-align: right;\n",
       "    }\n",
       "</style>\n",
       "<table border=\"1\" class=\"dataframe\">\n",
       "  <thead>\n",
       "    <tr style=\"text-align: right;\">\n",
       "      <th></th>\n",
       "      <th>flower</th>\n",
       "    </tr>\n",
       "  </thead>\n",
       "  <tbody>\n",
       "    <tr>\n",
       "      <th>0</th>\n",
       "      <td>5,2.3,3.4,0.9,Iris-versicolor</td>\n",
       "    </tr>\n",
       "    <tr>\n",
       "      <th>1</th>\n",
       "      <td>5,2.4,4.6,1.6,Iris-virginica</td>\n",
       "    </tr>\n",
       "    <tr>\n",
       "      <th>2</th>\n",
       "      <td>5.1,1.9,3.6,0.9,Iris-versicolor</td>\n",
       "    </tr>\n",
       "    <tr>\n",
       "      <th>3</th>\n",
       "      <td>5.1,2.2,3.4,0.9,Iris-versicolor</td>\n",
       "    </tr>\n",
       "    <tr>\n",
       "      <th>4</th>\n",
       "      <td>5.2,2.4,3.1,1,Iris-versicolor</td>\n",
       "    </tr>\n",
       "  </tbody>\n",
       "</table>\n",
       "</div>"
      ],
      "text/plain": [
       "                            flower\n",
       "0    5,2.3,3.4,0.9,Iris-versicolor\n",
       "1     5,2.4,4.6,1.6,Iris-virginica\n",
       "2  5.1,1.9,3.6,0.9,Iris-versicolor\n",
       "3  5.1,2.2,3.4,0.9,Iris-versicolor\n",
       "4    5.2,2.4,3.1,1,Iris-versicolor"
      ]
     },
     "execution_count": 51,
     "metadata": {},
     "output_type": "execute_result"
    }
   ],
   "source": [
    "df_iris.head()"
   ]
  },
  {
   "cell_type": "code",
   "execution_count": 52,
   "id": "7a2323f5",
   "metadata": {},
   "outputs": [
    {
     "name": "stdout",
     "output_type": "stream",
     "text": [
      "Predicted Variety: Iris-versicolor\n",
      "Predicted Variety Probabilities: [[0.66666667 0.33333333]]\n"
     ]
    },
    {
     "name": "stderr",
     "output_type": "stream",
     "text": [
      "c:\\Users\\SPF_Admin\\AppData\\Local\\Programs\\Python\\Python313\\Lib\\site-packages\\sklearn\\utils\\validation.py:2739: UserWarning: X does not have valid feature names, but KNeighborsClassifier was fitted with feature names\n",
      "  warnings.warn(\n",
      "c:\\Users\\SPF_Admin\\AppData\\Local\\Programs\\Python\\Python313\\Lib\\site-packages\\sklearn\\utils\\validation.py:2739: UserWarning: X does not have valid feature names, but KNeighborsClassifier was fitted with feature names\n",
      "  warnings.warn(\n"
     ]
    }
   ],
   "source": [
    "from sklearn.neighbors import KNeighborsClassifier\n",
    "\n",
    "# Split the 'flower' column into features and label\n",
    "iris_split = df_iris['flower'].str.split(',', expand=True)\n",
    "iris_split.columns = ['sepal_length', 'sepal_width', 'petal_length', 'petal_width', 'variety']\n",
    "\n",
    "# Convert feature columns to float\n",
    "X_iris = iris_split[['sepal_length', 'sepal_width', 'petal_length', 'petal_width']].astype(float)\n",
    "y_iris = iris_split['variety']\n",
    "\n",
    "knn = KNeighborsClassifier(n_neighbors=3)\n",
    "knn.fit(X_iris, y_iris)\n",
    "\n",
    "new_obs = [[6.6, 3.2, 5.1, 1.5]]\n",
    "prediction = knn.predict(new_obs)\n",
    "print(\"Predicted Variety:\", prediction[0])\n",
    "print(\"Predicted Variety Probabilities:\", knn.predict_proba(new_obs))"
   ]
  },
  {
   "cell_type": "markdown",
   "id": "002dc0a4",
   "metadata": {},
   "source": [
    "**Question 2.2 (a): Problem with an Even K in K-NN**\n",
    "\n",
    "**What’s the Issue?**\n",
    "\n",
    "*In K-Nearest Neighbours (K-NN), the model makes predictions by looking at the ‘K’ closest training examples (neighbors) to the new data point and then voting on the class. If you're doing binary classification (like distinguishing between versicolor and virginica), there are only two class options.*\n",
    "\n",
    "**Problem with Even K:**\n",
    "\n",
    "- If you choose an even number for K, there's a chance that:\n",
    "- The number of neighbors voting for each class will be equal.\n",
    "- This causes a tie, meaning the algorithm cannot decide which class to assign.\n",
    "\n",
    "**Example:**\n",
    "*Let's say K = 4, and the neighbors are:*\n",
    "- 2 versicolor\n",
    "- 2 virginica\n",
    "*Now the model is stuck, it doesn’t know which class to choose because both classes are equally close.*\n",
    "\n",
    "\n",
    "**Question 2.2 (b): Solution to the Tie Problem**\n",
    "\n",
    "**1. Use an Odd K Value:** \n",
    "\n",
    "Choose values like K = 3, 5, 7, etc.\n",
    "*That way, a tie cannot happen because there's always a majority.*\n",
    "Example: with K = 5, you’ll always have at least 3 votes for one class.\n",
    "\n",
    "**This is the simplest and most common solution.**\n",
    "\n",
    "**2. Use Distance-Weighted Voting**\n",
    "\n",
    "*Instead of giving each neighbor an equal vote, give more weight to closer neighbors. The model calculates how close each neighbor is and gives more influence to those that are nearer.*\n",
    "\n",
    "**For example:**\n",
    "Let’s say the 4 neighbors are:\n",
    "- 2 versicolor (very close)\n",
    "- 2 virginica (a bit farther)\n",
    "\n",
    "*Instead of voting 2 vs. 2 (a tie), the model gives more weight to the closer versicolor neighbors, and the final prediction would be versicolor.*\n",
    "This helps resolve ties even when K is even.\n",
    "\n",
    "\n"
   ]
  },
  {
   "cell_type": "markdown",
   "id": "c7612a63",
   "metadata": {},
   "source": [
    " **Question 2.3 – Evaluation of Different K-NN Models**"
   ]
  },
  {
   "cell_type": "code",
   "execution_count": 53,
   "id": "c1f5a5ba",
   "metadata": {},
   "outputs": [
    {
     "name": "stdout",
     "output_type": "stream",
     "text": [
      "\n",
      "K=5\n",
      "Confusion Matrix:\n",
      " [[51  6]\n",
      " [ 5 44]]\n",
      "Accuracy: 0.8962264150943396\n",
      "\n",
      "K=7\n",
      "Confusion Matrix:\n",
      " [[51  6]\n",
      " [ 7 42]]\n",
      "Accuracy: 0.8773584905660378\n",
      "\n",
      "K=9\n",
      "Confusion Matrix:\n",
      " [[52  5]\n",
      " [ 6 43]]\n",
      "Accuracy: 0.8962264150943396\n"
     ]
    }
   ],
   "source": [
    "from sklearn.metrics import confusion_matrix, accuracy_score\n",
    "\n",
    "for k in [5, 7, 9]:\n",
    "    knn = KNeighborsClassifier(n_neighbors=k)\n",
    "    knn.fit(X_iris, y_iris)\n",
    "    preds = knn.predict(X_iris)\n",
    "\n",
    "    print(f\"\\nK={k}\")\n",
    "    print(\"Confusion Matrix:\\n\", confusion_matrix(y_iris, preds))\n",
    "    print(\"Accuracy:\", accuracy_score(y_iris, preds))\n"
   ]
  },
  {
   "cell_type": "markdown",
   "id": "1dc9c5b4",
   "metadata": {},
   "source": [
    "To evaluate model performance, K-NN classifiers were tested with K values of 5, 7, and 9. Confusion matrices and accuracy scores were calculated for each. Both K=5 and K=9 yielded the highest accuracy of 89.6%, while K=7 showed a slightly lower accuracy of 87.7%.\n",
    "\n",
    "Based on these results, K=5 is chosen as the best model. It offers the highest accuracy, and compared to K=9, it is simpler and less computationally expensive. Moreover, it achieves a good balance between model complexity and predictive performance."
   ]
  }
 ],
 "metadata": {
  "kernelspec": {
   "display_name": "Python 3",
   "language": "python",
   "name": "python3"
  },
  "language_info": {
   "codemirror_mode": {
    "name": "ipython",
    "version": 3
   },
   "file_extension": ".py",
   "mimetype": "text/x-python",
   "name": "python",
   "nbconvert_exporter": "python",
   "pygments_lexer": "ipython3",
   "version": "3.13.2"
  }
 },
 "nbformat": 4,
 "nbformat_minor": 5
}
