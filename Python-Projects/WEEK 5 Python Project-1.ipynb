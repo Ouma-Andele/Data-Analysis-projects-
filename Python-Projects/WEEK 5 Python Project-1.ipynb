{
 "cells": [
  {
   "cell_type": "code",
   "execution_count": 6,
   "id": "9361b1a2",
   "metadata": {},
   "outputs": [],
   "source": [
    "#Import all necessary libraries\n",
    "import pandas as pd\n",
    "import numpy as np\n",
    "import matplotlib.pyplot as plt\n",
    "import seaborn as sns"
   ]
  },
  {
   "cell_type": "code",
   "execution_count": 7,
   "id": "d709b148",
   "metadata": {},
   "outputs": [],
   "source": [
    "#load the data\n",
    "df = pd.read_csv(\"C:/Users/admin/Desktop/Data Analysis Practice/week5_customer_reviews.csv\")"
   ]
  },
  {
   "cell_type": "markdown",
   "id": "6ea27c29",
   "metadata": {},
   "source": [
    "#Understanding the Data\n",
    "#1. What are the main columns in the dataset and what does each represent?"
   ]
  },
  {
   "cell_type": "code",
   "execution_count": 8,
   "id": "991b054e",
   "metadata": {},
   "outputs": [
    {
     "name": "stdout",
     "output_type": "stream",
     "text": [
      "Main columns and their meanings:\n",
      "- review_id: Unique customer identifier\n",
      "- customer_name: Name of the customer \n",
      "- raw_review: Original review text with potential special characters/emojis\n",
      "- product: Product being reviewed\n",
      "- rating: Numeric rating (1-5)\n",
      "- date: Date when review was posted\n",
      "- cleaned_review: [Empty in raw data, to be cleaned version of raw_review]\n",
      "- review_length: [Empty in raw data, to be calculated length of review]\n"
     ]
    }
   ],
   "source": [
    "print(\"Main columns and their meanings:\")\n",
    "print(\"- review_id: Unique customer identifier\")\n",
    "print(\"- customer_name: Name of the customer \")\n",
    "print(\"- raw_review: Original review text with potential special characters/emojis\")\n",
    "print(\"- product: Product being reviewed\")\n",
    "print(\"- rating: Numeric rating (1-5)\")\n",
    "print(\"- date: Date when review was posted\")\n",
    "print(\"- cleaned_review: [Empty in raw data, to be cleaned version of raw_review]\")\n",
    "print(\"- review_length: [Empty in raw data, to be calculated length of review]\")"
   ]
  },
  {
   "cell_type": "markdown",
   "id": "cab8dd5c",
   "metadata": {},
   "source": [
    "#2. What are some examples of messy elements in the raw_review column?"
   ]
  },
  {
   "cell_type": "code",
   "execution_count": 9,
   "id": "3261934a",
   "metadata": {},
   "outputs": [
    {
     "name": "stdout",
     "output_type": "stream",
     "text": [
      "\n",
      "Examples of messy elements in raw_review:\n",
      "0    Little understand try sell citizen create no m...\n",
      "1                                  Hair emplo\\(yee on.\n",
      "2                        Five p~{}#layer rest himself.\n",
      "Name: raw_review, dtype: object\n"
     ]
    }
   ],
   "source": [
    "print(\"\\nExamples of messy elements in raw_review:\")\n",
    "print(df['raw_review'].head(3))"
   ]
  },
  {
   "cell_type": "markdown",
   "id": "4345e727",
   "metadata": {},
   "source": [
    "The examples of messy elements include emojis, random punctuations. "
   ]
  },
  {
   "cell_type": "markdown",
   "id": "14414ccb",
   "metadata": {},
   "source": [
    "#3. How many unique products are reviewed in the dataset?"
   ]
  },
  {
   "cell_type": "code",
   "execution_count": 10,
   "id": "5b722b70",
   "metadata": {},
   "outputs": [
    {
     "name": "stdout",
     "output_type": "stream",
     "text": [
      "\n",
      "Number of unique products: 7\n",
      "Product list: ['Toaster' 'Smartwatch' 'Phone Case' 'Headphones' 'Shoes' 'Blender' 'Mug']\n"
     ]
    }
   ],
   "source": [
    "unique_products = df['product'].nunique()\n",
    "print(f\"\\nNumber of unique products: {unique_products}\") \n",
    "print(\"Product list:\", df['product'].unique())"
   ]
  },
  {
   "cell_type": "markdown",
   "id": "39e7afee",
   "metadata": {},
   "source": [
    "#Cleaning Tasks\n",
    "#1. How can you remove all special characters, emojis, and numbers from the raw_review column using Python?\n"
   ]
  },
  {
   "cell_type": "code",
   "execution_count": null,
   "id": "ba684eab",
   "metadata": {},
   "outputs": [],
   "source": [
    "#import re\n",
    "#re : This module provides regular expression matching operations. egular expressions can contain both special and ordinary characters.\n",
    "import re #"
   ]
  },
  {
   "cell_type": "code",
   "execution_count": 12,
   "id": "33cd6a7e",
   "metadata": {},
   "outputs": [],
   "source": [
    "# 1. Function to clean the raw_review text\n",
    "def clean_review_text(text):\n",
    "    if pd.isna(text):\n",
    "        return \"\"\n",
    "    # Remove emojis and special characters (keeping letters and basic punctuation)\n",
    "    cleaned = re.sub(r'[^\\w\\s.,!?]', '', str(text)) # \n",
    "    # Replace multiple spaces with single space\n",
    "    cleaned = re.sub(r'\\s+', ' ', cleaned)\n",
    "    # Strip leading/trailing spaces and lowercase\n",
    "    cleaned = cleaned.strip().lower()\n",
    "    return cleaned\n",
    "\n",
    "# Apply cleaning function to create cleaned_review column\n",
    "df['cleaned_review'] = df['raw_review'].apply(clean_review_text)\n",
    "\n",
    "# 2. Function to strip spaces and lowercase\n",
    "def preprocess_text(text):\n",
    "    if pd.isna(text):\n",
    "        return \"\"\n",
    "    return ' '.join(str(text).split()).lower()\n",
    "\n"
   ]
  },
  {
   "cell_type": "code",
   "execution_count": 13,
   "id": "ce3e6e28",
   "metadata": {},
   "outputs": [
    {
     "name": "stdout",
     "output_type": "stream",
     "text": [
      "\n",
      "Examples of raw vs cleaned reviews:\n",
      "\n",
      "Original 1: Little understand try sell citizen create no million management community continue oil han️️\\@🗑;🔥d team room.\n",
      "Cleaned 1: little understand try sell citizen create no million management community continue oil hand team room.\n",
      "\n",
      "Original 2: Hair emplo\\(yee on.\n",
      "Cleaned 2: hair employee on.\n",
      "\n",
      "Original 3: Five p~{}#layer rest himself.\n",
      "Cleaned 3: five player rest himself.\n"
     ]
    }
   ],
   "source": [
    "# 3. Show difference between raw and cleaned reviews\n",
    "print(\"\\nExamples of raw vs cleaned reviews:\")\n",
    "for i in range(3):\n",
    "    print(f\"\\nOriginal {i+1}: {df['raw_review'].iloc[i]}\")\n",
    "    print(f\"Cleaned {i+1}: {df['cleaned_review'].iloc[i]}\")"
   ]
  },
  {
   "cell_type": "code",
   "execution_count": 14,
   "id": "bb51f4ac",
   "metadata": {},
   "outputs": [
    {
     "data": {
      "text/html": [
       "<div>\n",
       "<style scoped>\n",
       "    .dataframe tbody tr th:only-of-type {\n",
       "        vertical-align: middle;\n",
       "    }\n",
       "\n",
       "    .dataframe tbody tr th {\n",
       "        vertical-align: top;\n",
       "    }\n",
       "\n",
       "    .dataframe thead th {\n",
       "        text-align: right;\n",
       "    }\n",
       "</style>\n",
       "<table border=\"1\" class=\"dataframe\">\n",
       "  <thead>\n",
       "    <tr style=\"text-align: right;\">\n",
       "      <th></th>\n",
       "      <th>review_id</th>\n",
       "      <th>customer_name</th>\n",
       "      <th>raw_review</th>\n",
       "      <th>product</th>\n",
       "      <th>rating</th>\n",
       "      <th>date</th>\n",
       "      <th>cleaned_review</th>\n",
       "      <th>review_length</th>\n",
       "    </tr>\n",
       "  </thead>\n",
       "  <tbody>\n",
       "    <tr>\n",
       "      <th>0</th>\n",
       "      <td>1</td>\n",
       "      <td>Craig Mckenzie</td>\n",
       "      <td>Little understand try sell citizen create no m...</td>\n",
       "      <td>Toaster</td>\n",
       "      <td>3.0</td>\n",
       "      <td>31/05/2025</td>\n",
       "      <td>little understand try sell citizen create no m...</td>\n",
       "      <td>NaN</td>\n",
       "    </tr>\n",
       "    <tr>\n",
       "      <th>1</th>\n",
       "      <td>2</td>\n",
       "      <td>Brian Coleman</td>\n",
       "      <td>Hair emplo\\(yee on.</td>\n",
       "      <td>Smartwatch</td>\n",
       "      <td>3.0</td>\n",
       "      <td>02/06/2025</td>\n",
       "      <td>hair employee on.</td>\n",
       "      <td>NaN</td>\n",
       "    </tr>\n",
       "    <tr>\n",
       "      <th>2</th>\n",
       "      <td>3</td>\n",
       "      <td>Jeremy Price</td>\n",
       "      <td>Five p~{}#layer rest himself.</td>\n",
       "      <td>Smartwatch</td>\n",
       "      <td>4.0</td>\n",
       "      <td>01/05/2025</td>\n",
       "      <td>five player rest himself.</td>\n",
       "      <td>NaN</td>\n",
       "    </tr>\n",
       "    <tr>\n",
       "      <th>3</th>\n",
       "      <td>4</td>\n",
       "      <td>Jose Roth</td>\n",
       "      <td>Off try shake care health nation identify mode...</td>\n",
       "      <td>Phone Case</td>\n",
       "      <td>5.0</td>\n",
       "      <td>17/05/2025</td>\n",
       "      <td>off try shake care health nation identify mode...</td>\n",
       "      <td>NaN</td>\n",
       "    </tr>\n",
       "    <tr>\n",
       "      <th>4</th>\n",
       "      <td>5</td>\n",
       "      <td>Allen Sims</td>\n",
       "      <td>New m~,(!🗑@!:~y sport management outside cente...</td>\n",
       "      <td>Headphones</td>\n",
       "      <td>3.0</td>\n",
       "      <td>19/05/2025</td>\n",
       "      <td>new m,!!y sport management outside center age ...</td>\n",
       "      <td>NaN</td>\n",
       "    </tr>\n",
       "  </tbody>\n",
       "</table>\n",
       "</div>"
      ],
      "text/plain": [
       "   review_id   customer_name  \\\n",
       "0          1  Craig Mckenzie   \n",
       "1          2   Brian Coleman   \n",
       "2          3    Jeremy Price   \n",
       "3          4       Jose Roth   \n",
       "4          5      Allen Sims   \n",
       "\n",
       "                                          raw_review     product  rating  \\\n",
       "0  Little understand try sell citizen create no m...     Toaster     3.0   \n",
       "1                                Hair emplo\\(yee on.  Smartwatch     3.0   \n",
       "2                      Five p~{}#layer rest himself.  Smartwatch     4.0   \n",
       "3  Off try shake care health nation identify mode...  Phone Case     5.0   \n",
       "4  New m~,(!🗑@!:~y sport management outside cente...  Headphones     3.0   \n",
       "\n",
       "         date                                     cleaned_review  \\\n",
       "0  31/05/2025  little understand try sell citizen create no m...   \n",
       "1  02/06/2025                                  hair employee on.   \n",
       "2  01/05/2025                          five player rest himself.   \n",
       "3  17/05/2025  off try shake care health nation identify mode...   \n",
       "4  19/05/2025  new m,!!y sport management outside center age ...   \n",
       "\n",
       "   review_length  \n",
       "0            NaN  \n",
       "1            NaN  \n",
       "2            NaN  \n",
       "3            NaN  \n",
       "4            NaN  "
      ]
     },
     "execution_count": 14,
     "metadata": {},
     "output_type": "execute_result"
    }
   ],
   "source": [
    "df.head()\n"
   ]
  },
  {
   "cell_type": "markdown",
   "id": "10d73283",
   "metadata": {},
   "source": [
    "2. Write a function in Python that strips extra spaces and lowercases the review text.\n",
    "# Strip leading/trailing spaces and lowercase\n",
    "cleaned = cleaned.strip().lower()\n",
    "\n",
    "Cleaned is the variable for the new cleaned data with not leading /trailing spaces.\n",
    ".strip() is the function used to remove extra spaces (leadin/trailing spaces).\n",
    ".lower() is the function used to change the review text to lowercase."
   ]
  },
  {
   "cell_type": "markdown",
   "id": "e12756f2",
   "metadata": {},
   "source": [
    "# 3. What is the difference between raw_review and cleaned_review after text cleaning? Illustrate with 3 examples."
   ]
  },
  {
   "cell_type": "code",
   "execution_count": 15,
   "id": "3d8e3ace",
   "metadata": {},
   "outputs": [
    {
     "name": "stdout",
     "output_type": "stream",
     "text": [
      "\n",
      "Examples of raw vs cleaned reviews:\n",
      "\n",
      "Original 1: Little understand try sell citizen create no million management community continue oil han️️\\@🗑;🔥d team room.\n",
      "Cleaned 1: little understand try sell citizen create no million management community continue oil hand team room.\n",
      "\n",
      "Original 2: Hair emplo\\(yee on.\n",
      "Cleaned 2: hair employee on.\n",
      "\n",
      "Original 3: Five p~{}#layer rest himself.\n",
      "Cleaned 3: five player rest himself.\n"
     ]
    }
   ],
   "source": [
    "# Show difference between raw and cleaned reviews\n",
    "print(\"\\nExamples of raw vs cleaned reviews:\")\n",
    "for i in range(3):\n",
    "    print(f\"\\nOriginal {i+1}: {df['raw_review'].iloc[i]}\")\n",
    "    print(f\"Cleaned {i+1}: {df['cleaned_review'].iloc[i]}\")"
   ]
  },
  {
   "cell_type": "markdown",
   "id": "c3c0bf0f",
   "metadata": {},
   "source": [
    "#Creating New Columns\n",
    "# 1. How would you compute the number of words in each review and store it in a new column review_length?\n"
   ]
  },
  {
   "cell_type": "code",
   "execution_count": 16,
   "id": "dfb38b26",
   "metadata": {},
   "outputs": [
    {
     "data": {
      "text/plain": [
       "0       15\n",
       "1        3\n",
       "2        4\n",
       "3       19\n",
       "4       19\n",
       "        ..\n",
       "4995     8\n",
       "4996     4\n",
       "4997     7\n",
       "4998    13\n",
       "4999     6\n",
       "Name: review_length, Length: 5000, dtype: int64"
      ]
     },
     "execution_count": 16,
     "metadata": {},
     "output_type": "execute_result"
    }
   ],
   "source": [
    "# 1. Compute review_length (number of words)\n",
    "df['review_length'] = df['cleaned_review'].apply(lambda x: len(str(x).split()))\n",
    "df['review_length']\n",
    "\n"
   ]
  },
  {
   "cell_type": "markdown",
   "id": "91628516",
   "metadata": {},
   "source": [
    "# 2. Can you categorize reviews into ‘Positive’, ‘Neutral’, or ‘Negative’ using the rating column? Create a new column sentiment."
   ]
  },
  {
   "cell_type": "code",
   "execution_count": 17,
   "id": "aad46b64",
   "metadata": {},
   "outputs": [],
   "source": [
    "#Categorize sentiment based on rating\n",
    "def categorize_sentiment(rating):\n",
    "    if rating <= 2:\n",
    "        return 'Negative'\n",
    "    elif rating == 3:\n",
    "        return 'Neutral'\n",
    "    else:\n",
    "        return 'Positive'\n",
    "\n",
    "df['sentiment'] = df['rating'].apply(categorize_sentiment)\n"
   ]
  },
  {
   "cell_type": "code",
   "execution_count": 18,
   "id": "f18aca8a",
   "metadata": {},
   "outputs": [
    {
     "data": {
      "text/html": [
       "<div>\n",
       "<style scoped>\n",
       "    .dataframe tbody tr th:only-of-type {\n",
       "        vertical-align: middle;\n",
       "    }\n",
       "\n",
       "    .dataframe tbody tr th {\n",
       "        vertical-align: top;\n",
       "    }\n",
       "\n",
       "    .dataframe thead th {\n",
       "        text-align: right;\n",
       "    }\n",
       "</style>\n",
       "<table border=\"1\" class=\"dataframe\">\n",
       "  <thead>\n",
       "    <tr style=\"text-align: right;\">\n",
       "      <th></th>\n",
       "      <th>review_id</th>\n",
       "      <th>customer_name</th>\n",
       "      <th>raw_review</th>\n",
       "      <th>product</th>\n",
       "      <th>rating</th>\n",
       "      <th>date</th>\n",
       "      <th>cleaned_review</th>\n",
       "      <th>review_length</th>\n",
       "      <th>sentiment</th>\n",
       "    </tr>\n",
       "  </thead>\n",
       "  <tbody>\n",
       "    <tr>\n",
       "      <th>0</th>\n",
       "      <td>1</td>\n",
       "      <td>Craig Mckenzie</td>\n",
       "      <td>Little understand try sell citizen create no m...</td>\n",
       "      <td>Toaster</td>\n",
       "      <td>3.0</td>\n",
       "      <td>31/05/2025</td>\n",
       "      <td>little understand try sell citizen create no m...</td>\n",
       "      <td>15</td>\n",
       "      <td>Neutral</td>\n",
       "    </tr>\n",
       "    <tr>\n",
       "      <th>1</th>\n",
       "      <td>2</td>\n",
       "      <td>Brian Coleman</td>\n",
       "      <td>Hair emplo\\(yee on.</td>\n",
       "      <td>Smartwatch</td>\n",
       "      <td>3.0</td>\n",
       "      <td>02/06/2025</td>\n",
       "      <td>hair employee on.</td>\n",
       "      <td>3</td>\n",
       "      <td>Neutral</td>\n",
       "    </tr>\n",
       "    <tr>\n",
       "      <th>2</th>\n",
       "      <td>3</td>\n",
       "      <td>Jeremy Price</td>\n",
       "      <td>Five p~{}#layer rest himself.</td>\n",
       "      <td>Smartwatch</td>\n",
       "      <td>4.0</td>\n",
       "      <td>01/05/2025</td>\n",
       "      <td>five player rest himself.</td>\n",
       "      <td>4</td>\n",
       "      <td>Positive</td>\n",
       "    </tr>\n",
       "    <tr>\n",
       "      <th>3</th>\n",
       "      <td>4</td>\n",
       "      <td>Jose Roth</td>\n",
       "      <td>Off try shake care health nation identify mode...</td>\n",
       "      <td>Phone Case</td>\n",
       "      <td>5.0</td>\n",
       "      <td>17/05/2025</td>\n",
       "      <td>off try shake care health nation identify mode...</td>\n",
       "      <td>19</td>\n",
       "      <td>Positive</td>\n",
       "    </tr>\n",
       "    <tr>\n",
       "      <th>4</th>\n",
       "      <td>5</td>\n",
       "      <td>Allen Sims</td>\n",
       "      <td>New m~,(!🗑@!:~y sport management outside cente...</td>\n",
       "      <td>Headphones</td>\n",
       "      <td>3.0</td>\n",
       "      <td>19/05/2025</td>\n",
       "      <td>new m,!!y sport management outside center age ...</td>\n",
       "      <td>19</td>\n",
       "      <td>Neutral</td>\n",
       "    </tr>\n",
       "  </tbody>\n",
       "</table>\n",
       "</div>"
      ],
      "text/plain": [
       "   review_id   customer_name  \\\n",
       "0          1  Craig Mckenzie   \n",
       "1          2   Brian Coleman   \n",
       "2          3    Jeremy Price   \n",
       "3          4       Jose Roth   \n",
       "4          5      Allen Sims   \n",
       "\n",
       "                                          raw_review     product  rating  \\\n",
       "0  Little understand try sell citizen create no m...     Toaster     3.0   \n",
       "1                                Hair emplo\\(yee on.  Smartwatch     3.0   \n",
       "2                      Five p~{}#layer rest himself.  Smartwatch     4.0   \n",
       "3  Off try shake care health nation identify mode...  Phone Case     5.0   \n",
       "4  New m~,(!🗑@!:~y sport management outside cente...  Headphones     3.0   \n",
       "\n",
       "         date                                     cleaned_review  \\\n",
       "0  31/05/2025  little understand try sell citizen create no m...   \n",
       "1  02/06/2025                                  hair employee on.   \n",
       "2  01/05/2025                          five player rest himself.   \n",
       "3  17/05/2025  off try shake care health nation identify mode...   \n",
       "4  19/05/2025  new m,!!y sport management outside center age ...   \n",
       "\n",
       "   review_length sentiment  \n",
       "0             15   Neutral  \n",
       "1              3   Neutral  \n",
       "2              4  Positive  \n",
       "3             19  Positive  \n",
       "4             19   Neutral  "
      ]
     },
     "execution_count": 18,
     "metadata": {},
     "output_type": "execute_result"
    }
   ],
   "source": [
    "df.head()"
   ]
  },
  {
   "cell_type": "markdown",
   "id": "59dd02d3",
   "metadata": {},
   "source": [
    "# 3. Which product received the most negative reviews (rating ≤ 2)?"
   ]
  },
  {
   "cell_type": "code",
   "execution_count": 19,
   "id": "2b445a45",
   "metadata": {},
   "outputs": [
    {
     "name": "stdout",
     "output_type": "stream",
     "text": [
      "\n",
      "Product with most negative reviews: Blender\n",
      "Negative review counts by product:\n",
      "product\n",
      "Blender       316\n",
      "Headphones    311\n",
      "Toaster       289\n",
      "Phone Case    288\n",
      "Shoes         280\n",
      "Mug           271\n",
      "Smartwatch    264\n",
      "Name: count, dtype: int64\n"
     ]
    }
   ],
   "source": [
    "#Product with most negative reviews\n",
    "negative_reviews = df[df['sentiment'] == 'Negative']\n",
    "product_negative_counts = negative_reviews['product'].value_counts()\n",
    "most_negative_product = product_negative_counts.idxmax()\n",
    "\n",
    "print(f\"\\nProduct with most negative reviews: {most_negative_product}\")\n",
    "print(\"Negative review counts by product:\")\n",
    "print(product_negative_counts)"
   ]
  },
  {
   "cell_type": "markdown",
   "id": "9e15ee71",
   "metadata": {},
   "source": [
    "# Summary & Insight\n",
    "# 1. What’s the average review length for positive vs negative reviews?\n"
   ]
  },
  {
   "cell_type": "code",
   "execution_count": 21,
   "id": "9e559e64",
   "metadata": {},
   "outputs": [
    {
     "name": "stdout",
     "output_type": "stream",
     "text": [
      "\n",
      "Average review length by sentiment:\n",
      "sentiment\n",
      "Negative    9.641902\n",
      "Neutral     9.451135\n",
      "Positive    9.531504\n",
      "Name: review_length, dtype: float64\n"
     ]
    }
   ],
   "source": [
    "#Positive review length\n",
    "#Average review length by sentiment\n",
    "avg_length_by_sentiment = df.groupby('sentiment')['review_length'].mean()\n",
    "print(\"\\nAverage review length by sentiment:\")\n",
    "print(avg_length_by_sentiment)"
   ]
  },
  {
   "cell_type": "markdown",
   "id": "1253fb43",
   "metadata": {},
   "source": [
    "#2. Plot a bar chart showing the number of reviews per product. What insights can you draw?"
   ]
  },
  {
   "cell_type": "code",
   "execution_count": 24,
   "id": "856daf33",
   "metadata": {},
   "outputs": [
    {
     "data": {
      "image/png": "[encoded data removed]",
      "text/plain": [
       "<Figure size 1000x600 with 1 Axes>"
      ]
     },
     "metadata": {},
     "output_type": "display_data"
    }
   ],
   "source": [
    "#Bar chart of reviews per product\n",
    "product_counts = df['product'].value_counts()\n",
    "plt.figure(figsize=(10, 6))\n",
    "ax = product_counts.plot(kind='bar')\n",
    "plt.title('Number of Reviews per Product')\n",
    "plt.xlabel('Product')\n",
    "plt.ylabel('Number of Reviews')\n",
    "plt.xticks(rotation=45)\n",
    "for i, v in enumerate(product_counts):\n",
    "    ax.text(i, v + 0.5, str(v), ha='center', va='bottom', fontsize=10)\n",
    "plt.tight_layout()\n",
    "plt.show()"
   ]
  },
  {
   "cell_type": "markdown",
   "id": "eaa3ef4e",
   "metadata": {},
   "source": [
    "- Headphones has the highest number of reviews (736) which shows it's most popular product, while Toaster has the least number of reviews (693) showing it's the least popular product.  \n",
    "- Headphone with the highest reviews shows higher customer interest while toaster, with the least reviews shows low customer interest. \n",
    "- The reviews amongst the prodcuts have a small variation, this indicates balanced engagement. Because of this, the business can focus on maintaining overall product quality, use product reviews for targeted improvements and investigate why headphones receives most feedback and which reviews among positive, neutral and negative are more."
   ]
  },
  {
   "cell_type": "markdown",
   "id": "c3af29d5",
   "metadata": {},
   "source": [
    "#3. Do longer reviews tend to be more positive or more negative based on the review_length and rating relationship?"
   ]
  },
  {
   "cell_type": "code",
   "execution_count": 25,
   "id": "f8d3cb07",
   "metadata": {},
   "outputs": [
    {
     "data": {
      "image/png": "[encoded data removed]",
      "text/plain": [
       "<Figure size 1000x600 with 1 Axes>"
      ]
     },
     "metadata": {},
     "output_type": "display_data"
    },
    {
     "name": "stdout",
     "output_type": "stream",
     "text": [
      "\n",
      "Correlation between review length and rating: -0.01\n"
     ]
    }
   ],
   "source": [
    "#Relationship between review length and rating\n",
    "plt.figure(figsize=(10, 6))\n",
    "plt.scatter(df['rating'], df['review_length'], alpha=0.5)\n",
    "plt.title('Review Length vs Rating')\n",
    "plt.xlabel('Rating (1-5)')\n",
    "plt.ylabel('Review Length (words)')\n",
    "plt.grid(True)\n",
    "plt.show()\n",
    "\n",
    "# Correlation between length and rating\n",
    "correlation = df['review_length'].corr(df['rating'])\n",
    "print(f\"\\nCorrelation between review length and rating: {correlation:.2f}\")"
   ]
  },
  {
   "cell_type": "markdown",
   "id": "3b378118",
   "metadata": {},
   "source": [
    "- There is no strong relationship between review length and rating.\n",
    "- Long and short reviews are equally likely to be positive (rating 5) or negative (rating 1).\n",
    "- Correlation between review length and rating is -0.01. A correlation close to 0 (-0.01) which indicates a weak relationship between review length and rating. "
   ]
  },
  {
   "cell_type": "code",
   "execution_count": 27,
   "id": "ee80f4e7",
   "metadata": {},
   "outputs": [
    {
     "data": {
      "image/png": "[encoded data removed]",
      "text/plain": [
       "<Figure size 800x500 with 1 Axes>"
      ]
     },
     "metadata": {},
     "output_type": "display_data"
    }
   ],
   "source": [
    "# Calculate average review length for each rating\n",
    "avg_length = df.groupby('rating')['review_length'].mean()\n",
    "\n",
    "# Plot it\n",
    "plt.figure(figsize=(8, 5))\n",
    "ax = avg_length.plot(kind='bar', color='skyblue')\n",
    "plt.title('Average Review Length per Rating')\n",
    "plt.xlabel('Rating')\n",
    "plt.ylabel('Average Review Length (words)')\n",
    "plt.xticks(rotation=0)\n",
    "for i, v in enumerate(avg_length):\n",
    "    ax.text(i, v + 0.3, f\"{v:.1f}\", ha='center', va='bottom', fontsize=10)\n",
    "plt.tight_layout()\n",
    "plt.show()\n"
   ]
  },
  {
   "cell_type": "code",
   "execution_count": 28,
   "id": "c8a79398",
   "metadata": {},
   "outputs": [
    {
     "name": "stderr",
     "output_type": "stream",
     "text": [
      "C:\\Users\\admin\\AppData\\Local\\Temp\\ipykernel_1680\\1226623216.py:2: FutureWarning: \n",
      "\n",
      "Passing `palette` without assigning `hue` is deprecated and will be removed in v0.14.0. Assign the `x` variable to `hue` and set `legend=False` for the same effect.\n",
      "\n",
      "  sns.boxplot(x='rating', y='review_length', data=df, palette='Set2')\n"
     ]
    },
    {
     "data": {
      "image/png": "[encoded data removed]",
      "text/plain": [
       "<Figure size 800x500 with 1 Axes>"
      ]
     },
     "metadata": {},
     "output_type": "display_data"
    }
   ],
   "source": [
    "plt.figure(figsize=(8, 5))\n",
    "sns.boxplot(x='rating', y='review_length', data=df, palette='Set2')\n",
    "plt.title('Distribution of Review Length by Rating')\n",
    "plt.xlabel('Rating')\n",
    "plt.ylabel('Review Length (words)')\n",
    "plt.tight_layout()\n",
    "plt.show()\n"
   ]
  },
  {
   "cell_type": "markdown",
   "id": "4e59c35d",
   "metadata": {},
   "source": [
    "- There is no significant difference between the review length across different ratings (1-5). \n",
    "- Review lengths are fairly consistent regardless of rating, with similar medians, spreads, and ranges."
   ]
  }
 ],
 "metadata": {
  "kernelspec": {
   "display_name": "Python 3",
   "language": "python",
   "name": "python3"
  },
  "language_info": {
   "codemirror_mode": {
    "name": "ipython",
    "version": 3
   },
   "file_extension": ".py",
   "mimetype": "text/x-python",
   "name": "python",
   "nbconvert_exporter": "python",
   "pygments_lexer": "ipython3",
   "version": "3.13.3"
  }
 },
 "nbformat": 4,
 "nbformat_minor": 5
}
